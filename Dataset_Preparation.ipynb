{
 "cells": [
  {
   "cell_type": "markdown",
   "id": "7287e6b7-8b0f-4108-b2bc-1636f095cd9a",
   "metadata": {},
   "source": [
    "# Loading the necessary libraries"
   ]
  },
  {
   "cell_type": "code",
   "execution_count": null,
   "id": "5317829e-d6da-4cfa-99e0-31a9974eb74e",
   "metadata": {},
   "outputs": [],
   "source": [
    "import os\n",
    "import numpy as np\n",
    "import matplotlib.pyplot as plt\n",
    "from pathlib import PurePath\n",
    "import cv2\n",
    "import time\n",
    "import json\n",
    "import seaborn as sns\n",
    "import pandas as pd"
   ]
  },
  {
   "cell_type": "markdown",
   "id": "566f1d18-3498-44a3-a6ba-5dfcd1b60863",
   "metadata": {},
   "source": [
    "# Exploring the data"
   ]
  },
  {
   "cell_type": "markdown",
   "id": "faf5ded5-f8ad-4195-a2e9-74b93f2e8614",
   "metadata": {},
   "source": [
    "### Loading the labels"
   ]
  },
  {
   "cell_type": "code",
   "execution_count": null,
   "id": "de0ad285-bf77-4a44-a8de-c7ad98598590",
   "metadata": {},
   "outputs": [],
   "source": [
    "# Reading training labels from a json file and storing them as a list\n",
    "train_labels = []\n",
    "with open('jersey-2023/train/train_gt.json') as f:\n",
    "    labels = json.load(f)\n",
    "    for i in labels:\n",
    "        if labels[i] != -1:\n",
    "            train_labels.append(labels[i])"
   ]
  },
  {
   "cell_type": "code",
   "execution_count": null,
   "id": "8b4f7a59-bbb9-47ae-ac15-bcc28058f8c5",
   "metadata": {},
   "outputs": [],
   "source": [
    "# Reading testing labels from a json file and storing them as a list\n",
    "test_labels = []\n",
    "with open('jersey-2023/test/test_gt.json') as f:\n",
    "    labels = json.load(f)\n",
    "    for i in labels:\n",
    "        if labels[i] != -1:\n",
    "            test_labels.append(labels[i])"
   ]
  },
  {
   "cell_type": "markdown",
   "id": "497bc0ca-5b73-45fd-8c35-394b09116f39",
   "metadata": {},
   "source": [
    "### Visualising the class distribution"
   ]
  },
  {
   "cell_type": "code",
   "execution_count": null,
   "id": "1500f8cb-f092-498b-84b1-57d3c22e5b47",
   "metadata": {},
   "outputs": [],
   "source": [
    "# Convert the list to a Pandas DataFrame for easier manipulation\n",
    "df_train = pd.DataFrame(train_labels, columns=['class'])\n",
    "\n",
    "df_test = pd.DataFrame(test_labels, columns=['class'])\n",
    "\n",
    "combined_df = pd.concat([df_train, df_test])\n",
    "\n",
    "# print(combined_df)\n",
    "\n",
    "# Count the number of samples per class\n",
    "class_counts = combined_df.groupby(['class']).size().reset_index(name = 'count')\n",
    "\n",
    "# print(class_counts)\n",
    "\n",
    "# palette = {'train': 'orange', 'test': 'blue'}\n",
    "\n",
    "# Set up the plot\n",
    "plt.figure(figsize=(15, 6))\n",
    "sns.barplot(x='class', y='count', data=class_counts) # , dodge=False, legend=False\n",
    "\n",
    "# Add labels and title\n",
    "plt.title('Number of Samples per Class')\n",
    "plt.xlabel('Class')\n",
    "plt.ylabel('Number of Samples')\n",
    "\n",
    "# Show the plot\n",
    "plt.show()"
   ]
  },
  {
   "cell_type": "markdown",
   "id": "06c7ced6-f935-4838-b164-f0d1795ee124",
   "metadata": {},
   "source": [
    "### Loading training data"
   ]
  },
  {
   "cell_type": "code",
   "execution_count": null,
   "id": "1f985be1-a56d-4574-a4b7-adc51ed97820",
   "metadata": {},
   "outputs": [],
   "source": [
    "# Defining the neccessary parameters\n",
    "\n",
    "# No of samples\n",
    "n_train = 800\n",
    "# no of frames per tracklet\n",
    "n_frames = 32\n",
    "# Size of each frame\n",
    "frame_size = (80, 80)\n",
    "# Shape for each frame in numpy array\n",
    "frame_shape = (80, 80, 3)\n",
    "# Path to the train dataset images\n",
    "input_path = \"jersey-2023/train/images/\"\n",
    "train_paths = [int(i) for i in os.listdir(input_path) if i != '.DS_Store']\n",
    "train_paths = [str(i) for i in sorted(train_paths)]"
   ]
  },
  {
   "cell_type": "code",
   "execution_count": null,
   "id": "155e939b-502e-4c36-9237-28e61f3ad523",
   "metadata": {},
   "outputs": [],
   "source": [
    "# Defining a function to get the PurePath from the complete path to order the images \n",
    "\n",
    "def get_file_number(path):\n",
    "    p = PurePath(path)\n",
    "    try:\n",
    "        num = p.stem.split(\".\")[0]\n",
    "        return int(num)\n",
    "    except (ValueError, IndexError) as exc:\n",
    "        raise ValueError(f\"File number not found in '{path}': {exc}.\")"
   ]
  },
  {
   "cell_type": "code",
   "execution_count": null,
   "id": "92d41424-896c-4424-b3f4-9c9261b90abc",
   "metadata": {},
   "outputs": [],
   "source": [
    "# Reading each image path and loading it into a single numpy array\n",
    "\n",
    "start_time = time.time()\n",
    "\n",
    "# Initialising empty numpy array for train data \n",
    "train_data = np.empty((0,n_frames) + frame_shape, dtype=int)\n",
    "\n",
    "train_label = []\n",
    "train_tracklet_no = []\n",
    "\n",
    "# Opening JSON file\n",
    "f = open('jersey-2023/train/train_gt.json')\n",
    "\n",
    "# returns JSON object as \n",
    "# a dictionary\n",
    "data = json.load(f)\n",
    "\n",
    "ncount = 0\n",
    "# Iterating over path of each train tracklet\n",
    "for i in train_paths:\n",
    "\n",
    "    # Creating a list of path to each image in the current tracklet\n",
    "    new_path = input_path + i + '/'\n",
    "    path = os.listdir(new_path)\n",
    "    path.sort(key = get_file_number)\n",
    "    if len(path) < n_frames or data[i] == -1:\n",
    "        continue\n",
    "    # Initialising an empty numpy array to store each frame of the tracklet\n",
    "    frames = np.empty((0,) + frame_shape, dtype=int)\n",
    "\n",
    "    fcount = 0\n",
    "    # Iterating over paths of all images in the tracklet\n",
    "    for j in path:\n",
    "        # Reading and appending each frame into the frames array\n",
    "        img = np.reshape(cv2.resize(cv2.imread(new_path + j), frame_size), (1,) + frame_shape)\n",
    "        frames = np.append(frames, img, axis = 0)\n",
    "        fcount += 1\n",
    "        if fcount >= n_frames:\n",
    "            break\n",
    "\n",
    "    # Appending the frames numpy array into the main numpy array of train data\n",
    "    frames = np.reshape(frames, (1,) + frames.shape)\n",
    "    train_data = np.append(train_data, frames, axis = 0)\n",
    "    ncount += 1\n",
    "\n",
    "    # Storing the label and tracklet number of current tracklet\n",
    "    train_label.append(data[i])\n",
    "    train_tracklet_no.append(i)\n",
    "    \n",
    "    if ncount >= n_train:\n",
    "        break\n",
    "\n",
    "# Closing file\n",
    "f.close()\n",
    "\n",
    "train_label = np.array(train_label)\n",
    "train_tracklet_no = np.array(train_tracklet_no)\n",
    "\n",
    "end_time = time.time()\n",
    "\n",
    "# Calculating the time taken for the above operation\n",
    "elapsed_time = end_time - start_time\n",
    "print(f\"Elapsed time: {elapsed_time} seconds\")"
   ]
  },
  {
   "cell_type": "code",
   "execution_count": null,
   "id": "1be8d49d-d97a-4d84-9410-87b426ae09f6",
   "metadata": {},
   "outputs": [],
   "source": [
    "# Saving a numpy array each of train data, label and tracklet no\n",
    "\n",
    "np.save('data/train_data', train_data)\n",
    "np.save('data/train_label', train_label)\n",
    "np.save('data/train_tracklet_no', train_tracklet_no)"
   ]
  },
  {
   "cell_type": "markdown",
   "id": "58975cb1-1340-4576-80e7-439ab4aa2d5d",
   "metadata": {},
   "source": [
    "### Loading validation and testing data"
   ]
  },
  {
   "cell_type": "code",
   "execution_count": null,
   "id": "f751ea4a-bd84-4e74-9051-59f04d99fa8e",
   "metadata": {},
   "outputs": [],
   "source": [
    "# Defining the neccessary parameters\n",
    "\n",
    "# Number of samples\n",
    "n_test = 200\n",
    "# Path to the test dataset images\n",
    "input_test_path = \"jersey-2023/test/images/\"\n",
    "test_paths = [int(i) for i in os.listdir(input_test_path) if i != '.DS_Store']\n",
    "test_paths = [str(i) for i in sorted(test_paths)]"
   ]
  },
  {
   "cell_type": "code",
   "execution_count": null,
   "id": "12ad9813-52be-4996-b720-437db90f8658",
   "metadata": {},
   "outputs": [],
   "source": [
    "# Reading each image path and loading it into a single numpy array each for validation and testing\n",
    "\n",
    "start_time = time.time()\n",
    "\n",
    "# Initialising empty numpy array for validation and test data\n",
    "val_data = np.empty((0,n_frames) + frame_shape, dtype=int)\n",
    "test_data = np.empty((0,n_frames) + frame_shape, dtype=int)\n",
    "\n",
    "val_label = []\n",
    "test_label = []\n",
    "\n",
    "val_tracklet_no = []\n",
    "test_tracklet_no = []\n",
    "\n",
    "# Opening JSON file\n",
    "f = open('jersey-2023/test/test_gt.json')\n",
    "\n",
    "# returns JSON object as \n",
    "# a dictionary\n",
    "data = json.load(f)\n",
    "\n",
    "ncount = 0\n",
    "# Iterating over path of each test tracklet\n",
    "for i in test_paths:\n",
    "\n",
    "    # Creating a list of path to each image in the current tracklet\n",
    "    new_path = input_test_path + i + '/'\n",
    "    path = os.listdir(new_path)\n",
    "    path.sort(key = get_file_number)\n",
    "    if len(path) < n_frames or data[i] == -1 or data[i] not in train_label:\n",
    "        continue\n",
    "    # Initialising an empty numpy array to store each frame of the tracklet\n",
    "    frames = np.empty((0,) + frame_shape, dtype=int)\n",
    "    \n",
    "    fcount = 0\n",
    "    for j in path:\n",
    "        img = np.reshape(cv2.resize(cv2.imread(new_path + j), frame_size), (1,) + frame_shape)\n",
    "        frames = np.append(frames, img, axis = 0)\n",
    "        fcount += 1\n",
    "        if fcount >= n_frames:\n",
    "            break\n",
    "\n",
    "    frames = np.reshape(frames, (1,) + frames.shape)\n",
    "    \n",
    "    # Appending the frames numpy array into either validation or testing numpy array\n",
    "    # Along with storing the label and tracklet number of current tracklet\n",
    "    if ncount < n_test:\n",
    "        \n",
    "        # Loading Validation Data\n",
    "        val_data = np.append(val_data, frames, axis = 0)\n",
    "        val_label.append(data[i])\n",
    "        val_tracklet_no.append(i)\n",
    "        \n",
    "    elif ncount < 2*n_test:\n",
    "        \n",
    "        # Loading Testing Data\n",
    "        test_data = np.append(test_data, frames, axis = 0)\n",
    "        test_label.append(data[i])\n",
    "        test_tracklet_no.append(i)\n",
    "\n",
    "    ncount += 1\n",
    "    if ncount >= 2*n_test:\n",
    "        break\n",
    "\n",
    "# Closing file\n",
    "f.close()\n",
    "\n",
    "val_label = np.array(val_label)\n",
    "test_label = np.array(test_label)\n",
    "\n",
    "val_tracklet_no = np.array(val_tracklet_no)\n",
    "test_tracklet_no = np.array(test_tracklet_no)\n",
    "\n",
    "end_time = time.time()\n",
    "\n",
    "# Calculating the time taken for the above operation\n",
    "elapsed_time = end_time - start_time\n",
    "print(f\"Elapsed time: {elapsed_time} seconds\")"
   ]
  },
  {
   "cell_type": "code",
   "execution_count": null,
   "id": "149093df-bc20-4d24-8377-d51d2064428f",
   "metadata": {},
   "outputs": [],
   "source": [
    "# Saving a numpy array each of train, validation and testing data, label and tracklet no\n",
    "\n",
    "np.save('data/val_data', val_data)\n",
    "np.save('data/val_label', val_label)\n",
    "np.save('data/val_tracklet_no', val_tracklet_no)\n",
    "\n",
    "np.save('data/test_data', test_data)\n",
    "np.save('data/test_label', test_label)\n",
    "np.save('data/test_tracklet_no', test_tracklet_no)"
   ]
  }
 ],
 "metadata": {
  "kernelspec": {
   "display_name": "Python 3 (ipykernel)",
   "language": "python",
   "name": "python3"
  },
  "language_info": {
   "codemirror_mode": {
    "name": "ipython",
    "version": 3
   },
   "file_extension": ".py",
   "mimetype": "text/x-python",
   "name": "python",
   "nbconvert_exporter": "python",
   "pygments_lexer": "ipython3",
   "version": "3.10.14"
  }
 },
 "nbformat": 4,
 "nbformat_minor": 5
}
